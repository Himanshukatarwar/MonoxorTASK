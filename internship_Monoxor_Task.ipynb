{
  "nbformat": 4,
  "nbformat_minor": 0,
  "metadata": {
    "colab": {
      "name": "internship Monoxor Task.ipynb",
      "provenance": [],
      "collapsed_sections": []
    },
    "kernelspec": {
      "display_name": "Python 3",
      "name": "python3"
    }
  },
  "cells": [
    {
      "cell_type": "markdown",
      "metadata": {
        "id": "zGnxqBwb_gz-"
      },
      "source": [
        "# Approach:-\r\n",
        "\r\n",
        "1. First step is to clean the data.\r\n",
        "2. Process the text.Use only valuable word in sentence and remove the other character like special character.\r\n",
        "3. Data is Imbalance. So, upsampling used it overcome this problem.\r\n",
        "4. Use some simple feature engineering task on text like bagofword, tfidf and use word embedding from glove of 300 dimension.\r\n",
        "5. Train model on the created feature vector.\r\n",
        "\r\n",
        "# Metrics :- \r\n",
        "  1.) Auc <br>\r\n",
        "  2.) Confusion Matrix,Precision,Recall Matrix\r\n",
        "\r\n",
        "\r\n",
        "\r\n",
        "\r\n"
      ]
    },
    {
      "cell_type": "code",
      "metadata": {
        "id": "SkcKn1QanN9e"
      },
      "source": [
        "# import library\r\n",
        "import tensorflow as tf\r\n",
        "import numpy as np\r\n",
        "import tensorflow as tf\r\n",
        "import seaborn as sns\r\n",
        "import pandas as pd \r\n",
        "from sklearn.preprocessing import LabelEncoder\r\n",
        "from sklearn.metrics import confusion_matrix,accuracy_score,roc_auc_score\r\n",
        "from sklearn.ensemble import RandomForestClassifier,GradientBoostingClassifier\r\n",
        "from sklearn.model_selection import RandomizedSearchCV\r\n",
        "from sklearn.svm import SVC\r\n",
        "import matplotlib.pyplot as plt\r\n",
        "from sklearn.linear_model import LogisticRegression\r\n",
        "\r\n",
        "import seaborn as sns"
      ],
      "execution_count": 56,
      "outputs": []
    },
    {
      "cell_type": "code",
      "metadata": {
        "id": "2Km12znfi2qm"
      },
      "source": [
        "# import data \r\n",
        "\r\n",
        "data = pd.read_json('/content/drive/MyDrive/MaliciousDetectingTask.json')\r\n",
        "data_features = pd.json_normalize(data['req'])"
      ],
      "execution_count": 23,
      "outputs": []
    },
    {
      "cell_type": "code",
      "metadata": {
        "colab": {
          "base_uri": "https://localhost:8080/",
          "height": 387
        },
        "id": "qRl9Xx_5oC8M",
        "outputId": "1bc64659-8351-41e9-d4a3-b5e878124890"
      },
      "source": [
        "data_features.head(4)"
      ],
      "execution_count": 24,
      "outputs": [
        {
          "output_type": "execute_result",
          "data": {
            "text/html": [
              "<div>\n",
              "<style scoped>\n",
              "    .dataframe tbody tr th:only-of-type {\n",
              "        vertical-align: middle;\n",
              "    }\n",
              "\n",
              "    .dataframe tbody tr th {\n",
              "        vertical-align: top;\n",
              "    }\n",
              "\n",
              "    .dataframe thead th {\n",
              "        text-align: right;\n",
              "    }\n",
              "</style>\n",
              "<table border=\"1\" class=\"dataframe\">\n",
              "  <thead>\n",
              "    <tr style=\"text-align: right;\">\n",
              "      <th></th>\n",
              "      <th>baseUrl</th>\n",
              "      <th>fresh</th>\n",
              "      <th>hostname</th>\n",
              "      <th>ip</th>\n",
              "      <th>ips</th>\n",
              "      <th>originalUrl</th>\n",
              "      <th>path</th>\n",
              "      <th>protocol</th>\n",
              "      <th>secure</th>\n",
              "      <th>stale</th>\n",
              "      <th>subdomains</th>\n",
              "      <th>xhr</th>\n",
              "      <th>body.note.title</th>\n",
              "      <th>body.note.desc</th>\n",
              "      <th>headers.host</th>\n",
              "      <th>headers.user-agent</th>\n",
              "      <th>headers.content-type</th>\n",
              "      <th>headers.org_id</th>\n",
              "      <th>headers.user_session_id</th>\n",
              "      <th>headers.accept</th>\n",
              "      <th>headers.content-length</th>\n",
              "      <th>headers.user.name</th>\n",
              "      <th>headers.user.role</th>\n",
              "    </tr>\n",
              "  </thead>\n",
              "  <tbody>\n",
              "    <tr>\n",
              "      <th>0</th>\n",
              "      <td>/crm/note</td>\n",
              "      <td>False</td>\n",
              "      <td>example.com</td>\n",
              "      <td>::ffff:117.99.96.244</td>\n",
              "      <td>[]</td>\n",
              "      <td>/crm/note</td>\n",
              "      <td>/note</td>\n",
              "      <td>http</td>\n",
              "      <td>False</td>\n",
              "      <td>True</td>\n",
              "      <td>[crm]</td>\n",
              "      <td>False</td>\n",
              "      <td>Tina Johnson</td>\n",
              "      <td>Top recognize eat. Fact whom spend area thing ...</td>\n",
              "      <td>example.com</td>\n",
              "      <td>insomnia/2020.4.2</td>\n",
              "      <td>application/json</td>\n",
              "      <td>5f572820f65af8ac955b2e83</td>\n",
              "      <td>5fb27d3750b11901a35649fe</td>\n",
              "      <td>*/*</td>\n",
              "      <td>70</td>\n",
              "      <td>sam</td>\n",
              "      <td>sales1</td>\n",
              "    </tr>\n",
              "    <tr>\n",
              "      <th>1</th>\n",
              "      <td>/crm/note</td>\n",
              "      <td>False</td>\n",
              "      <td>example.com</td>\n",
              "      <td>::ffff:117.99.96.244</td>\n",
              "      <td>[]</td>\n",
              "      <td>/crm/note</td>\n",
              "      <td>/note</td>\n",
              "      <td>http</td>\n",
              "      <td>False</td>\n",
              "      <td>True</td>\n",
              "      <td>[crm]</td>\n",
              "      <td>False</td>\n",
              "      <td>Clayton Cooper</td>\n",
              "      <td>As possible American many prepare four strong....</td>\n",
              "      <td>example.com</td>\n",
              "      <td>insomnia/2020.4.2</td>\n",
              "      <td>application/json</td>\n",
              "      <td>5f572820f65af8ac955b2e83</td>\n",
              "      <td>5fb27d3750b11901a35649fe</td>\n",
              "      <td>*/*</td>\n",
              "      <td>70</td>\n",
              "      <td>sam</td>\n",
              "      <td>sales1</td>\n",
              "    </tr>\n",
              "    <tr>\n",
              "      <th>2</th>\n",
              "      <td>/crm/note</td>\n",
              "      <td>False</td>\n",
              "      <td>example.com</td>\n",
              "      <td>::ffff:117.99.96.244</td>\n",
              "      <td>[]</td>\n",
              "      <td>/crm/note</td>\n",
              "      <td>/note</td>\n",
              "      <td>http</td>\n",
              "      <td>False</td>\n",
              "      <td>True</td>\n",
              "      <td>[crm]</td>\n",
              "      <td>False</td>\n",
              "      <td>Curtis Wolfe</td>\n",
              "      <td>Tuesday Notes or 2 like 2 XSP Class</td>\n",
              "      <td>example.com</td>\n",
              "      <td>insomnia/2020.4.2</td>\n",
              "      <td>application/json</td>\n",
              "      <td>5f572820f65af8ac955b2e83</td>\n",
              "      <td>5fb27d3750b11901a35649fe</td>\n",
              "      <td>*/*</td>\n",
              "      <td>70</td>\n",
              "      <td>sam</td>\n",
              "      <td>sales1</td>\n",
              "    </tr>\n",
              "    <tr>\n",
              "      <th>3</th>\n",
              "      <td>/crm/note</td>\n",
              "      <td>False</td>\n",
              "      <td>example.com</td>\n",
              "      <td>::ffff:117.99.96.244</td>\n",
              "      <td>[]</td>\n",
              "      <td>/crm/note</td>\n",
              "      <td>/note</td>\n",
              "      <td>http</td>\n",
              "      <td>False</td>\n",
              "      <td>True</td>\n",
              "      <td>[crm]</td>\n",
              "      <td>False</td>\n",
              "      <td>Laura Fisher</td>\n",
              "      <td>State third represent energy campaign not forg...</td>\n",
              "      <td>example.com</td>\n",
              "      <td>insomnia/2020.4.2</td>\n",
              "      <td>application/json</td>\n",
              "      <td>5f572820f65af8ac955b2e83</td>\n",
              "      <td>5fb27d3750b11901a35649fe</td>\n",
              "      <td>*/*</td>\n",
              "      <td>70</td>\n",
              "      <td>sam</td>\n",
              "      <td>sales1</td>\n",
              "    </tr>\n",
              "  </tbody>\n",
              "</table>\n",
              "</div>"
            ],
            "text/plain": [
              "     baseUrl  fresh  ... headers.user.name headers.user.role\n",
              "0  /crm/note  False  ...               sam            sales1\n",
              "1  /crm/note  False  ...               sam            sales1\n",
              "2  /crm/note  False  ...               sam            sales1\n",
              "3  /crm/note  False  ...               sam            sales1\n",
              "\n",
              "[4 rows x 23 columns]"
            ]
          },
          "metadata": {
            "tags": []
          },
          "execution_count": 24
        }
      ]
    },
    {
      "cell_type": "code",
      "metadata": {
        "colab": {
          "base_uri": "https://localhost:8080/",
          "height": 194
        },
        "id": "jXBVWNy7oJZP",
        "outputId": "c87d855f-b52e-4efa-a22c-a8435dfd9247"
      },
      "source": [
        "data_features = data_features[['body.note.title','body.note.desc']]\r\n",
        "data_features['isSafe'] = data['isSafe']\r\n",
        "data_features.columns = ['Title','Description','IsSafe']\r\n",
        "data_features.head()"
      ],
      "execution_count": 25,
      "outputs": [
        {
          "output_type": "execute_result",
          "data": {
            "text/html": [
              "<div>\n",
              "<style scoped>\n",
              "    .dataframe tbody tr th:only-of-type {\n",
              "        vertical-align: middle;\n",
              "    }\n",
              "\n",
              "    .dataframe tbody tr th {\n",
              "        vertical-align: top;\n",
              "    }\n",
              "\n",
              "    .dataframe thead th {\n",
              "        text-align: right;\n",
              "    }\n",
              "</style>\n",
              "<table border=\"1\" class=\"dataframe\">\n",
              "  <thead>\n",
              "    <tr style=\"text-align: right;\">\n",
              "      <th></th>\n",
              "      <th>Title</th>\n",
              "      <th>Description</th>\n",
              "      <th>IsSafe</th>\n",
              "    </tr>\n",
              "  </thead>\n",
              "  <tbody>\n",
              "    <tr>\n",
              "      <th>0</th>\n",
              "      <td>Tina Johnson</td>\n",
              "      <td>Top recognize eat. Fact whom spend area thing ...</td>\n",
              "      <td>True</td>\n",
              "    </tr>\n",
              "    <tr>\n",
              "      <th>1</th>\n",
              "      <td>Clayton Cooper</td>\n",
              "      <td>As possible American many prepare four strong....</td>\n",
              "      <td>True</td>\n",
              "    </tr>\n",
              "    <tr>\n",
              "      <th>2</th>\n",
              "      <td>Curtis Wolfe</td>\n",
              "      <td>Tuesday Notes or 2 like 2 XSP Class</td>\n",
              "      <td>False</td>\n",
              "    </tr>\n",
              "    <tr>\n",
              "      <th>3</th>\n",
              "      <td>Laura Fisher</td>\n",
              "      <td>State third represent energy campaign not forg...</td>\n",
              "      <td>True</td>\n",
              "    </tr>\n",
              "    <tr>\n",
              "      <th>4</th>\n",
              "      <td>Tyler Santos</td>\n",
              "      <td>Us enjoy since. Time identify image position o...</td>\n",
              "      <td>False</td>\n",
              "    </tr>\n",
              "  </tbody>\n",
              "</table>\n",
              "</div>"
            ],
            "text/plain": [
              "            Title                                        Description  IsSafe\n",
              "0    Tina Johnson  Top recognize eat. Fact whom spend area thing ...    True\n",
              "1  Clayton Cooper  As possible American many prepare four strong....    True\n",
              "2    Curtis Wolfe                Tuesday Notes or 2 like 2 XSP Class   False\n",
              "3    Laura Fisher  State third represent energy campaign not forg...    True\n",
              "4    Tyler Santos  Us enjoy since. Time identify image position o...   False"
            ]
          },
          "metadata": {
            "tags": []
          },
          "execution_count": 25
        }
      ]
    },
    {
      "cell_type": "code",
      "metadata": {
        "colab": {
          "base_uri": "https://localhost:8080/"
        },
        "id": "i0jl7CtwpZky",
        "outputId": "49d705a9-68ee-4935-8118-a1ecce516f80"
      },
      "source": [
        "print(\"Safe File =\",data_features[data_features['IsSafe']==False]['IsSafe'].count())\r\n",
        "print(\"Unsafe File = \",data_features[data_features['IsSafe']==True]['IsSafe'].count())"
      ],
      "execution_count": 26,
      "outputs": [
        {
          "output_type": "stream",
          "text": [
            "Safe File = 428\n",
            "Unsafe File =  572\n"
          ],
          "name": "stdout"
        }
      ]
    },
    {
      "cell_type": "code",
      "metadata": {
        "id": "bRTpnYnCrDLq"
      },
      "source": [
        "#https://gist.githubusercontent.com/sebleier/554280/raw/7e0e4a1ce04c2bb7bd41089c9821dbcf6d0c786c/NLTK's%2520list%2520of%2520english%2520stopwords\r\n",
        "stopwords= ['i', 'me', 'my', 'myself', 'we', 'our', 'ours', 'ourselves', 'you', \"you're\", \"you've\",\"you'll\", \"you'd\", 'your', 'yours', 'yourself', 'yourselves', 'he', 'him', 'his', 'himself',\r\n",
        "            'she', \"she's\", 'her', 'hers', 'herself', 'it', \"it's\", 'its', 'itself', 'they', 'them', 'their', \r\n",
        "            'theirs', 'themselves', 'what', 'which', 'who', 'whom', 'this', 'that', \"that'll\", 'these', 'those', \r\n",
        "            'am', 'is', 'are', 'was', 'were', 'be', 'been', 'being', 'have', 'has', 'had', 'having', 'do', 'does', \r\n",
        "            'did', 'doing', 'a', 'an', 'the', 'and', 'but', 'if', 'or', 'because', 'as', 'until', ' while', 'of',\r\n",
        "            'at', 'by', 'for', 'with', 'about', 'against', 'between', 'into', 'through', 'during', 'before', 'after',\r\n",
        "            'above', 'below', 'to', 'from', 'up', 'down', 'in', 'out', 'on', 'off', 'over', 'under' , 'again', 'further', \r\n",
        "            'then', 'once', 'here', 'there', 'when', 'where', 'why', 'how', 'all', 'any', 'both', 'e ach', 'few', 'more', \r\n",
        "            'most', 'other', 'some', 'such', 'only', 'own', 'same', 'so', 'than', 'too', 'very', \r\n",
        "            's', 't', 'can', 'will', 'just', 'don', \"don't\", 'should', \"should've\", 'now', 'd', 'll' , 'm', 'o', 're',\r\n",
        "            've', 'y', 'ain', 'aren', \"aren't\", 'couldn', \"couldn't\", 'didn', \"didn't\", 'doesn', \"do esn't\", 'hadn',\r\n",
        "            \"hadn't\", 'hasn', \"hasn't\", 'haven', \"haven't\", 'isn', \"isn't\", 'ma', 'mightn', \"mightn't\", 'mustn',\r\n",
        "            \"mustn't\", 'needn', \"needn't\", 'shan', \"shan't\", 'shouldn', \"shouldn't\", 'wasn', \"wasn't\", 'weren', \"weren't\", \r\n",
        "            'won', \"won't\", 'wouldn', \"wouldn't\"]"
      ],
      "execution_count": 27,
      "outputs": []
    },
    {
      "cell_type": "code",
      "metadata": {
        "id": "McKxh6lmlTRW"
      },
      "source": [
        "\r\n",
        "import re\r\n",
        "def cleaning_sentence(data):\r\n",
        "  preprocessed_desp = []\r\n",
        "  for sentance in data: \r\n",
        "    sent = sentance.replace('\\\\n', ' ')\r\n",
        "    sent = re.sub('[^A-Za-z]+', ' ', sent)\r\n",
        "    # https://gist.github.com/sebleier/554280 \r\n",
        "    sent = ' '.join(e for e in sent.split() if e not in stopwords) \r\n",
        "    sent = sent.lower().strip()\r\n",
        "    sent = sent.replace('cvideo','video')\r\n",
        "    sent = sent.replace('onerror','error')\r\n",
        "    sent = sent.replace('aalert','alert')\r\n",
        "    sent = sent.replace('fvideo','video')\r\n",
        "    preprocessed_desp.append(sent)\r\n",
        "  return preprocessed_desp"
      ],
      "execution_count": 28,
      "outputs": []
    },
    {
      "cell_type": "markdown",
      "metadata": {
        "id": "nJW5P4nV1JQ9"
      },
      "source": [
        "# Train Test Split"
      ]
    },
    {
      "cell_type": "code",
      "metadata": {
        "id": "ygQVZE-T0x4q"
      },
      "source": [
        ""
      ],
      "execution_count": 6,
      "outputs": []
    },
    {
      "cell_type": "code",
      "metadata": {
        "colab": {
          "base_uri": "https://localhost:8080/"
        },
        "id": "tp0kYUDKqpPM",
        "outputId": "9aa3b086-0f92-472b-ece6-cce0da80520a"
      },
      "source": [
        "from sklearn.model_selection  import train_test_split\r\n",
        "X_train, X_test, y_train, y_test = train_test_split(data_features['Description'].values, data_features['IsSafe'].values, test_size=0.30, random_state=42)\r\n",
        "print(\"X_train shape = \",X_train.shape)\r\n",
        "print(\"X_test shape = \",X_test.shape)"
      ],
      "execution_count": 29,
      "outputs": [
        {
          "output_type": "stream",
          "text": [
            "X_train shape =  (700,)\n",
            "X_test shape =  (300,)\n"
          ],
          "name": "stdout"
        }
      ]
    },
    {
      "cell_type": "markdown",
      "metadata": {
        "id": "Nxffk3Rp2FEt"
      },
      "source": [
        "## Upsampling"
      ]
    },
    {
      "cell_type": "code",
      "metadata": {
        "colab": {
          "base_uri": "https://localhost:8080/"
        },
        "id": "_05NNnUUBVsR",
        "outputId": "cf9a60cf-ec3a-4fab-c3a6-59d934c23a83"
      },
      "source": [
        "train_dict  = {'Description':X_train,'label':y_train}\r\n",
        "data = pd.DataFrame.from_dict(train_dict)\r\n",
        "data[data['label']==False].count()"
      ],
      "execution_count": 30,
      "outputs": [
        {
          "output_type": "execute_result",
          "data": {
            "text/plain": [
              "Description    301\n",
              "label          301\n",
              "dtype: int64"
            ]
          },
          "metadata": {
            "tags": []
          },
          "execution_count": 30
        }
      ]
    },
    {
      "cell_type": "code",
      "metadata": {
        "colab": {
          "base_uri": "https://localhost:8080/"
        },
        "id": "eav-i5N21REp",
        "outputId": "23a4f4aa-ab79-46ee-e583-621cfe9ce1f1"
      },
      "source": [
        "train_dict  = {'Description':X_train,'label':y_train}\r\n",
        "data = pd.DataFrame.from_dict(train_dict)\r\n",
        "false_label = data[data['label']==False].sample(98)\r\n",
        "combine = pd.concat([data,false_label])\r\n",
        "print(\"False label = \",combine[combine['label']==False]['label'].count())\r\n",
        "print(\"True label = \",combine[combine['label']==True]['label'].count())"
      ],
      "execution_count": 31,
      "outputs": [
        {
          "output_type": "stream",
          "text": [
            "False label =  399\n",
            "True label =  399\n"
          ],
          "name": "stdout"
        }
      ]
    },
    {
      "cell_type": "code",
      "metadata": {
        "id": "0eFRZM701bUJ"
      },
      "source": [
        "X_train = combine['Description'].values\r\n",
        "y_train = combine['label'].values"
      ],
      "execution_count": 32,
      "outputs": []
    },
    {
      "cell_type": "markdown",
      "metadata": {
        "id": "0Lu_eqon2nTZ"
      },
      "source": [
        "## Cleaning Text"
      ]
    },
    {
      "cell_type": "code",
      "metadata": {
        "id": "CR8fBof0vNm4"
      },
      "source": [
        "X_train = cleaning_sentence(X_train)\r\n",
        "X_test = cleaning_sentence(X_test)\r\n"
      ],
      "execution_count": 33,
      "outputs": []
    },
    {
      "cell_type": "markdown",
      "metadata": {
        "id": "yGxeSHoa3Gi5"
      },
      "source": [
        "## Encoding Label"
      ]
    },
    {
      "cell_type": "code",
      "metadata": {
        "id": "vv2hrx6U2mO5"
      },
      "source": [
        "\r\n",
        "le = LabelEncoder()\r\n",
        "le.fit(y_train)\r\n",
        "Y_train = le.transform(y_train)\r\n",
        "Y_test = le.transform(y_test)\r\n"
      ],
      "execution_count": 34,
      "outputs": []
    },
    {
      "cell_type": "markdown",
      "metadata": {
        "id": "qDb0EoCU0yi9"
      },
      "source": [
        "# Feature Engineering"
      ]
    },
    {
      "cell_type": "code",
      "metadata": {
        "colab": {
          "base_uri": "https://localhost:8080/"
        },
        "id": "D4cVXRf-3C1e",
        "outputId": "98abef08-b905-471c-fb13-f11d259fed22"
      },
      "source": [
        "import numpy as np\r\n",
        "\r\n",
        "def loadGloveModel(File):\r\n",
        "    print(\"Loading Glove Model\")\r\n",
        "    f = open(File,'r')\r\n",
        "    gloveModel = {}\r\n",
        "    for line in f:\r\n",
        "        splitLines = line.split()\r\n",
        "        word = splitLines[0]\r\n",
        "        wordEmbedding = np.array([float(value) for value in splitLines[1:]])\r\n",
        "        gloveModel[word] = wordEmbedding\r\n",
        "    print(len(gloveModel),\" words loaded!\")\r\n",
        "    return gloveModel\r\n",
        "GloveVector = loadGloveModel('/content/drive/MyDrive/glove.6B.300d.txt')"
      ],
      "execution_count": 35,
      "outputs": [
        {
          "output_type": "stream",
          "text": [
            "Loading Glove Model\n",
            "400000  words loaded!\n"
          ],
          "name": "stdout"
        }
      ]
    },
    {
      "cell_type": "markdown",
      "metadata": {
        "id": "KdZHXT76008a"
      },
      "source": [
        "## Bag of Words "
      ]
    },
    {
      "cell_type": "code",
      "metadata": {
        "colab": {
          "base_uri": "https://localhost:8080/"
        },
        "id": "eAbRNxNk0qhd",
        "outputId": "77759a7f-8023-43b5-bc14-b0d128f17c2d"
      },
      "source": [
        "from sklearn.feature_extraction.text import CountVectorizer \r\n",
        "vectorizer = CountVectorizer(min_df=6,ngram_range=(1,2)) \r\n",
        "vectorizer.fit(X_train)\r\n",
        "bow_train = vectorizer.transform(X_train)\r\n",
        "bow_test = vectorizer.transform(X_test)\r\n",
        "print(bow_train.shape)\r\n",
        "print(bow_test.shape)"
      ],
      "execution_count": 36,
      "outputs": [
        {
          "output_type": "stream",
          "text": [
            "(798, 910)\n",
            "(300, 910)\n"
          ],
          "name": "stdout"
        }
      ]
    },
    {
      "cell_type": "markdown",
      "metadata": {
        "id": "rafxiY4Y04kJ"
      },
      "source": [
        "## TFIDF VECTORIZATION"
      ]
    },
    {
      "cell_type": "code",
      "metadata": {
        "colab": {
          "base_uri": "https://localhost:8080/"
        },
        "id": "Tghvcuh70mcw",
        "outputId": "dc662d6a-3bf4-4dff-deb5-b20234bdb1cf"
      },
      "source": [
        "from sklearn.feature_extraction.text import TfidfVectorizer\r\n",
        "vectorizer = TfidfVectorizer(min_df=2)\r\n",
        "vectorizer.fit(X_train)\r\n",
        "tfidf_train = vectorizer.transform(X_train)\r\n",
        "tfidf_test = vectorizer.transform(X_test)\r\n",
        "print(tfidf_train.shape)\r\n",
        "print(tfidf_test.shape)"
      ],
      "execution_count": 37,
      "outputs": [
        {
          "output_type": "stream",
          "text": [
            "(798, 954)\n",
            "(300, 954)\n"
          ],
          "name": "stdout"
        }
      ]
    },
    {
      "cell_type": "markdown",
      "metadata": {
        "id": "F5xvlx3407Xj"
      },
      "source": [
        "## Average word2vec"
      ]
    },
    {
      "cell_type": "code",
      "metadata": {
        "id": "JcpHLuIYqE0P",
        "colab": {
          "base_uri": "https://localhost:8080/"
        },
        "outputId": "92f38f0b-dea9-485d-9d42-87d587dcd230"
      },
      "source": [
        "def avg_w2v(data):\r\n",
        "  avg_w2v_vectors = [];\r\n",
        "  glove_key = GloveVector.keys()\r\n",
        "  # the avg-w2v for each sentence/review is stored in this list\r\n",
        "  for sentence in data:\r\n",
        "    # for each review/sentence\r\n",
        "    vector = np.zeros(300)\r\n",
        "\r\n",
        "    # as word vectors are of zero length\r\n",
        "    cnt_words =0;\r\n",
        "    # num of words with a valid vector in the sentence/review \r\n",
        "    for word in sentence.split():\r\n",
        "      # for each word in a review/sentence\r\n",
        "      if word in glove_key:\r\n",
        "        vector += GloveVector[word]\r\n",
        "        cnt_words += 1\r\n",
        "    if cnt_words != 0:\r\n",
        "      vector /= cnt_words\r\n",
        "      avg_w2v_vectors.append(vector)\r\n",
        "  return np.array(avg_w2v_vectors)\r\n",
        "avgw2v_train = avg_w2v(X_train)\r\n",
        "avgw2v_test = avg_w2v(X_test)\r\n",
        "print(avgw2v_train.shape)\r\n",
        "print(avgw2v_test.shape)"
      ],
      "execution_count": 38,
      "outputs": [
        {
          "output_type": "stream",
          "text": [
            "(798, 300)\n",
            "(300, 300)\n"
          ],
          "name": "stdout"
        }
      ]
    },
    {
      "cell_type": "markdown",
      "metadata": {
        "id": "6d0koh090_bb"
      },
      "source": [
        "## Tfidf Word2vec"
      ]
    },
    {
      "cell_type": "code",
      "metadata": {
        "colab": {
          "base_uri": "https://localhost:8080/"
        },
        "id": "cWG4-O8s0rxs",
        "outputId": "9c6580a0-b7b6-4181-c1a5-817416800544"
      },
      "source": [
        "from sklearn.feature_extraction.text import TfidfVectorizer\r\n",
        "def tfidf_weighted_w2v(data,tfidf_words):\r\n",
        "    glove_words  = GloveVector.keys()\r\n",
        "    tfidf_w2v_vectors = []; # the avg-w2v for each sentence/review is stored in this list\r\n",
        "    for sentence in data:\r\n",
        "      # for each review/sentence\r\n",
        "      vector = np.zeros(300)\r\n",
        "      # as word vectors are of zero length\r\n",
        "      tf_idf_weight =0; \r\n",
        "      # num of words with a valid vector in the sentence/review\r\n",
        "      for word in sentence.split():\r\n",
        "        # for each word in a review/sentence\r\n",
        "        if (word in glove_words) and (word in tfidf_words):\r\n",
        "          vec = GloveVector[word] \r\n",
        "          # getting the vector for each word\r\n",
        "          # here we are multiplying idf value(dictionary[word]) and the tf value((sentence.count(word)/len(sentence.split()))) \r\n",
        "          tf_idf = dictionary[word]*(sentence.count(word)/len(sentence.split())) # getting the tfidf value for each word \r\n",
        "          vector += (vec * tf_idf) \r\n",
        "          # calculating tfidf weighted w2v \r\n",
        "          tf_idf_weight += tf_idf \r\n",
        "      if tf_idf_weight != 0:\r\n",
        "        vector /= tf_idf_weight\r\n",
        "      tfidf_w2v_vectors.append(vector)\r\n",
        "    return np.array(tfidf_w2v_vectors)\r\n",
        "    \r\n",
        "tfidf_model = TfidfVectorizer(min_df=2)\r\n",
        "tfidf_model.fit(X_train)# we are converting a dictionary with word as a key, and the idf as a value\r\n",
        "dictionary = dict(zip(tfidf_model.get_feature_names(), list(tfidf_model.idf_)))\r\n",
        "tfidf_words = set(tfidf_model.get_feature_names())\r\n",
        "wtw2v_train=tfidf_weighted_w2v(X_train,tfidf_words)\r\n",
        "wtw2v_test=tfidf_weighted_w2v(X_test,tfidf_words)\r\n",
        "print(wtw2v_train.shape)\r\n",
        "print(wtw2v_test.shape)"
      ],
      "execution_count": 39,
      "outputs": [
        {
          "output_type": "stream",
          "text": [
            "(798, 300)\n",
            "(300, 300)\n"
          ],
          "name": "stdout"
        }
      ]
    },
    {
      "cell_type": "markdown",
      "metadata": {
        "id": "pRjY-YtE4Nkv"
      },
      "source": [
        "# Training Model"
      ]
    },
    {
      "cell_type": "code",
      "metadata": {
        "id": "PSxYaOAL8mm5"
      },
      "source": [
        "def hyper_parameterTuning(rand_search):\r\n",
        "  vector_name = ['Bag of words--','Tfidf--','Average_w2v--','Tfidf_weight_vec--']\r\n",
        "\r\n",
        "  for i,vector in enumerate([bow_train,tfidf_train,avgw2v_train,wtw2v_train]):\r\n",
        "    print(vector_name[i])\r\n",
        "    rand_search.fit(vector,Y_train)\r\n",
        "    print(rand_search.best_params_)\r\n",
        "    print(rand_search.best_score_)\r\n",
        "    \r\n"
      ],
      "execution_count": 40,
      "outputs": []
    },
    {
      "cell_type": "code",
      "metadata": {
        "id": "wdcTd1WuR1QS"
      },
      "source": [
        "def plot_confusionMatrix(predicted_y,true_y):\r\n",
        "  y_true = [\"False\",\"True\"]\r\n",
        "  y_pred = [\"False\",\"True\"]\r\n",
        "  data = confusion_matrix(true_y, predicted_y)\r\n",
        "  recall_mat = (((data.T)/(data.sum(axis=1))).T)\r\n",
        "  precision_mat = (data/data.sum(axis=0))\r\n",
        "  plt.figure(figsize=(20,4))\r\n",
        "  cmap=sns.light_palette(\"blue\")\r\n",
        "  labels = ['False','True']\r\n",
        "  plt.subplot(1, 3, 1)\r\n",
        "  sns.heatmap(data, annot=True, cmap=cmap, fmt=\".3f\", xticklabels=labels, yticklabels=labels)\r\n",
        "  plt.xlabel('Predicted Class')\r\n",
        "  plt.ylabel('Original Class')\r\n",
        "  plt.title(\"Confusion matrix\")\r\n",
        "  \r\n",
        "  plt.subplot(1, 3, 2)\r\n",
        "  sns.heatmap(precision_mat, annot=True, cmap=cmap, fmt=\".3f\", xticklabels=labels, yticklabels=labels)\r\n",
        "  plt.xlabel('Predicted Class')\r\n",
        "  plt.ylabel('Original Class')\r\n",
        "  plt.title(\"Precision matrix\")\r\n",
        "  plt.subplot(1, 3, 3) \r\n",
        "  # representing B in heatmap format \r\n",
        "  sns.heatmap(recall_mat, annot=True, cmap=cmap, fmt=\".3f\", xticklabels=labels, yticklabels=labels)\r\n",
        "  plt.xlabel('Predicted Class')\r\n",
        "  plt.ylabel('Original Class')\r\n",
        "  plt.title(\"Recall matrix\")\r\n",
        "  plt.show()"
      ],
      "execution_count": 59,
      "outputs": []
    },
    {
      "cell_type": "code",
      "metadata": {
        "colab": {
          "base_uri": "https://localhost:8080/"
        },
        "id": "Yuh8n9ds4PnU",
        "outputId": "077c51a6-7f5a-4173-9b61-de5b0a5dde3b"
      },
      "source": [
        "from sklearn.linear_model import LogisticRegression\r\n",
        "vector_name = ['Bag of words--','Tfidf--','Average_w2v--','Tfidf_weight_vec--']\r\n",
        "\r\n",
        "params = {'penalty': ['l1', 'l2', 'elasticnet, none'],\r\n",
        "          'C' : np.linspace(start = 0.001, stop = 1, num = 200)\r\n",
        "          }\r\n",
        "clf = LogisticRegression(n_jobs=-1)\r\n",
        "rand_search = RandomizedSearchCV(clf,params,n_jobs = -1,cv=3,return_train_score=True,scoring='roc_auc',verbose=0)\r\n",
        "for i,vector in enumerate([bow_train,tfidf_train,avgw2v_train,wtw2v_train]):\r\n",
        "  print(vector_name[i])\r\n",
        "  rand_search.fit(vector,Y_train)\r\n",
        "  print(rand_search.best_params_)\r\n",
        "  print(rand_search.best_score_)\r\n",
        "  "
      ],
      "execution_count": 62,
      "outputs": [
        {
          "output_type": "stream",
          "text": [
            "Bag of words--\n",
            "{'penalty': 'l2', 'C': 0.5481909547738694}\n",
            "0.9041212052688111\n",
            "Tfidf--\n",
            "{'penalty': 'l2', 'C': 0.4929698492462312}\n",
            "0.89196675900277\n",
            "Average_w2v--\n",
            "{'penalty': 'l2', 'C': 0.6084321608040202}\n",
            "0.8480976878285941\n",
            "Tfidf_weight_vec--\n",
            "{'penalty': 'l2', 'C': 0.8945778894472363}\n",
            "0.8444230877946746\n"
          ],
          "name": "stdout"
        }
      ]
    },
    {
      "cell_type": "code",
      "metadata": {
        "colab": {
          "base_uri": "https://localhost:8080/"
        },
        "id": "8n0VvpqzbvN9",
        "outputId": "27f07b7a-aea9-4d38-afc4-1ed526fb1395"
      },
      "source": [
        "clf = LogisticRegression(penalty='l2',C= 0.5481909547738694)\r\n",
        "clf.fit(bow_train,Y_train)\r\n",
        "predicted_trainy = clf.predict_proba(bow_train)[:,1]\r\n",
        "predicted_testy = clf.predict_proba(bow_test)[:,1]\r\n",
        "print(roc_auc_score(Y_train,predicted_trainy))\r\n",
        "print(roc_auc_score(Y_test,predicted_testy))"
      ],
      "execution_count": 57,
      "outputs": [
        {
          "output_type": "stream",
          "text": [
            "1.0\n",
            "0.8158481634882345\n"
          ],
          "name": "stdout"
        }
      ]
    },
    {
      "cell_type": "code",
      "metadata": {
        "colab": {
          "base_uri": "https://localhost:8080/",
          "height": 203
        },
        "id": "95mzDgAgRVC9",
        "outputId": "1396bc1e-3f8a-4eb3-a1d8-12e861a9f2f2"
      },
      "source": [
        "predicted_testy = clf.predict(bow_test)\r\n",
        "plot_confusionMatrix(predicted_testy,Y_test)"
      ],
      "execution_count": 60,
      "outputs": [
        {
          "output_type": "display_data",
          "data": {
            "image/png": "[encoded data removed]",
            "text/plain": [
              "<Figure size 1440x288 with 6 Axes>"
            ]
          },
          "metadata": {
            "tags": []
          }
        }
      ]
    },
    {
      "cell_type": "code",
      "metadata": {
        "colab": {
          "base_uri": "https://localhost:8080/"
        },
        "id": "IYtV2_JO76-Q",
        "outputId": "6a3211c9-618b-424b-fc7f-9c287dd6f739"
      },
      "source": [
        "\r\n",
        "params  = {'C' :np.linspace(start = 0.001, stop = 1, num = 200)}\r\n",
        "clf = SVC()\r\n",
        "rand_search = RandomizedSearchCV(clf,params,n_jobs = -1,cv=3,return_train_score=True,scoring='roc_auc',verbose=0)\r\n",
        "hyper_parameterTuning(rand_search)\r\n",
        "  "
      ],
      "execution_count": 174,
      "outputs": [
        {
          "output_type": "stream",
          "text": [
            "Bag of words--\n",
            "{'C': 0.9447788944723619}\n",
            "0.8930974051670529\n",
            "Tfidf--\n",
            "{'C': 0.8845376884422111}\n",
            "0.8922117323383647\n",
            "Average_w2v--\n",
            "{'C': 0.9046180904522614}\n",
            "0.8358301769461246\n",
            "Tfidf_weight_vec--\n",
            "{'C': 0.9849396984924624}\n",
            "0.834341492829819\n"
          ],
          "name": "stdout"
        }
      ]
    },
    {
      "cell_type": "code",
      "metadata": {
        "id": "n1HriPtHSK2a"
      },
      "source": [
        "from sklearn.svm import SVC"
      ],
      "execution_count": 72,
      "outputs": []
    },
    {
      "cell_type": "code",
      "metadata": {
        "colab": {
          "base_uri": "https://localhost:8080/"
        },
        "id": "f6fVYynQbVIY",
        "outputId": "5c5cf96a-9a82-4d8b-c263-35d424bbb1b4"
      },
      "source": [
        "clf = SVC(C= 0.9447788944723619)\r\n",
        "clf.fit(bow_train,Y_train)\r\n",
        "predicted_trainy = clf.decision_function(bow_train)\r\n",
        "predicted_testy = clf.decision_function(bow_test)\r\n",
        "print(roc_auc_score(Y_train,predicted_trainy))\r\n",
        "print(roc_auc_score(Y_test,predicted_testy))"
      ],
      "execution_count": 61,
      "outputs": [
        {
          "output_type": "stream",
          "text": [
            "1.0\n",
            "0.8194438122980293\n"
          ],
          "name": "stdout"
        }
      ]
    },
    {
      "cell_type": "code",
      "metadata": {
        "colab": {
          "base_uri": "https://localhost:8080/",
          "height": 203
        },
        "id": "CLJk7LiuSG2E",
        "outputId": "45082493-6a4e-46da-ccb9-d00e6824ccf1"
      },
      "source": [
        "predicted_testy = clf.predict(bow_test)\r\n",
        "plot_confusionMatrix(predicted_testy,Y_test)"
      ],
      "execution_count": 62,
      "outputs": [
        {
          "output_type": "display_data",
          "data": {
            "image/png": "[encoded data removed]",
            "text/plain": [
              "<Figure size 1440x288 with 6 Axes>"
            ]
          },
          "metadata": {
            "tags": []
          }
        }
      ]
    },
    {
      "cell_type": "markdown",
      "metadata": {
        "id": "CMp1314pStH2"
      },
      "source": [
        "## RandomForest "
      ]
    },
    {
      "cell_type": "code",
      "metadata": {
        "colab": {
          "base_uri": "https://localhost:8080/"
        },
        "id": "A3qFEF2TCQ6h",
        "outputId": "e097642e-55ac-40b3-c344-4e32ab4d38c5"
      },
      "source": [
        "\r\n",
        "# Number of trees in random forest\r\n",
        "n_estimators = [int(x) for x in np.linspace(start = 200, stop = 2000, num = 10)]\r\n",
        "# Critere for spliting\r\n",
        "criterion = ['gini', 'entropy']\r\n",
        "# Number of features to consider at every split\r\n",
        "max_features = ['auto', 'sqrt','log2']\r\n",
        "# Maximum number of levels in tree\r\n",
        "max_depth = [int(x) for x in np.linspace(5, 200, num = 20)]\r\n",
        "max_depth.append(None)\r\n",
        "# Minimum number of samples required to split a node\r\n",
        "min_samples_split = [2, 5, 10,14,7,9]\r\n",
        "# Minimum number of samples required at each leaf node\r\n",
        "min_samples_leaf = [1, 2, 4]\r\n",
        "# Method of selecting samples for training each tree\r\n",
        "bootstrap = [True, False]\r\n",
        "\r\n",
        "\r\n",
        "random_grid = {'n_estimators': n_estimators,\r\n",
        "               'max_features': max_features,\r\n",
        "               'max_depth': max_depth,\r\n",
        "               'min_samples_split': min_samples_split,\r\n",
        "               'min_samples_leaf': min_samples_leaf,\r\n",
        "               'bootstrap': bootstrap,\r\n",
        "               'criterion':criterion}\r\n",
        "classifier = RandomForestClassifier(n_jobs = -1)\r\n",
        "rf_random = RandomizedSearchCV(estimator = classifier, param_distributions = random_grid, n_iter = 100, cv = 3, verbose=0, random_state=42, n_jobs = -1)\r\n",
        "hyper_parameterTuning(rf_random)\r\n"
      ],
      "execution_count": 20,
      "outputs": [
        {
          "output_type": "stream",
          "text": [
            "Bag of words--\n",
            "{'n_estimators': 2000, 'min_samples_split': 9, 'min_samples_leaf': 1, 'max_features': 'log2', 'max_depth': 107, 'criterion': 'entropy', 'bootstrap': True}\n",
            "0.8959899749373433\n",
            "Tfidf--\n",
            "{'n_estimators': 600, 'min_samples_split': 2, 'min_samples_leaf': 1, 'max_features': 'log2', 'max_depth': 200, 'criterion': 'entropy', 'bootstrap': True}\n",
            "0.8897243107769423\n",
            "Average_w2v--\n",
            "{'n_estimators': 200, 'min_samples_split': 7, 'min_samples_leaf': 2, 'max_features': 'sqrt', 'max_depth': 35, 'criterion': 'entropy', 'bootstrap': False}\n",
            "0.893483709273183\n",
            "Tfidf_weight_vec--\n",
            "{'n_estimators': 1000, 'min_samples_split': 9, 'min_samples_leaf': 2, 'max_features': 'log2', 'max_depth': 56, 'criterion': 'entropy', 'bootstrap': False}\n",
            "0.8922305764411028\n"
          ],
          "name": "stdout"
        }
      ]
    },
    {
      "cell_type": "code",
      "metadata": {
        "colab": {
          "base_uri": "https://localhost:8080/"
        },
        "id": "qZinwu1hLeZQ",
        "outputId": "ef51b111-aee9-48f4-a1ad-92b0e1e46d4f"
      },
      "source": [
        "clf = RandomForestClassifier(n_estimators= 1200, min_samples_split= 5, min_samples_leaf= 4, max_features= 'auto', max_depth= 87, criterion= 'entropy', class_weight= 'balanced', bootstrap= True)\r\n",
        "clf.fit(bow_train,Y_train)\r\n",
        "predicted_trainy = clf.predict_proba(bow_train)[:,1]\r\n",
        "predicted_testy = clf.predict_proba(bow_test)[:,1]\r\n",
        "print(roc_auc_score(Y_train,predicted_trainy))\r\n",
        "print(roc_auc_score(Y_test,predicted_testy))"
      ],
      "execution_count": 63,
      "outputs": [
        {
          "output_type": "stream",
          "text": [
            "0.9997236198265086\n",
            "0.8232670338173046\n"
          ],
          "name": "stdout"
        }
      ]
    },
    {
      "cell_type": "code",
      "metadata": {
        "colab": {
          "base_uri": "https://localhost:8080/",
          "height": 203
        },
        "id": "hFwMrgMNmTN-",
        "outputId": "b46da731-582a-4eb6-eb44-8a67772b9c8a"
      },
      "source": [
        "predicted_testy = clf.predict(bow_test)\r\n",
        "plot_confusionMatrix(predicted_testy,Y_test)"
      ],
      "execution_count": 64,
      "outputs": [
        {
          "output_type": "display_data",
          "data": {
            "image/png": "[encoded data removed]",
            "text/plain": [
              "<Figure size 1440x288 with 6 Axes>"
            ]
          },
          "metadata": {
            "tags": []
          }
        }
      ]
    },
    {
      "cell_type": "markdown",
      "metadata": {
        "id": "t2u03OPaSoj2"
      },
      "source": [
        "## GradienBoosting Tree"
      ]
    },
    {
      "cell_type": "code",
      "metadata": {
        "colab": {
          "base_uri": "https://localhost:8080/"
        },
        "id": "DiXXbbeLceSy",
        "outputId": "b9338c24-afd6-4e93-997a-368e7bc10434"
      },
      "source": [
        "gridParams = {\r\n",
        "    'learning_rate': [0.1, 0.05, 0.01, 0.005,0.001,0.02,0.5],\r\n",
        "    'n_estimators': [int(x) for x in np.linspace(start = 50,stop = 1000,num = 12)],\r\n",
        "    }\r\n",
        "clf=GradientBoostingClassifier()\r\n",
        "Gridcv1 = RandomizedSearchCV(clf,gridParams,cv=3,scoring='roc_auc',return_train_score=True)\r\n",
        "hyper_parameterTuning(Gridcv1)"
      ],
      "execution_count": 22,
      "outputs": [
        {
          "output_type": "stream",
          "text": [
            "Bag of words--\n",
            "{'n_estimators': 395, 'learning_rate': 0.5}\n",
            "0.8826012399419603\n",
            "Tfidf--\n",
            "{'n_estimators': 740, 'learning_rate': 0.02}\n",
            "0.8759869598809052\n",
            "Average_w2v--\n",
            "{'n_estimators': 481, 'learning_rate': 0.05}\n",
            "0.8898373753933706\n",
            "Tfidf_weight_vec--\n",
            "{'n_estimators': 654, 'learning_rate': 0.1}\n",
            "0.8928901200369345\n"
          ],
          "name": "stdout"
        }
      ]
    },
    {
      "cell_type": "code",
      "metadata": {
        "colab": {
          "base_uri": "https://localhost:8080/"
        },
        "id": "bTFKA710r7cx",
        "outputId": "ba88f131-8dc3-4856-b8e8-ac6df3c243d6"
      },
      "source": [
        "clf=GradientBoostingClassifier(n_estimators=654,learning_rate=0.1)\r\n",
        "\r\n",
        "clf.fit(tfidf_train,Y_train)\r\n",
        "predicted_trainy = clf.predict_proba(tfidf_train)[:,1]\r\n",
        "predicted_testy = clf.predict_proba(tfidf_test)[:,1]\r\n",
        "print(roc_auc_score(Y_train,predicted_trainy))\r\n",
        "\r\n",
        "print(roc_auc_score(Y_test,predicted_testy))"
      ],
      "execution_count": 65,
      "outputs": [
        {
          "output_type": "stream",
          "text": [
            "1.0\n",
            "0.829457011515179\n"
          ],
          "name": "stdout"
        }
      ]
    },
    {
      "cell_type": "code",
      "metadata": {
        "colab": {
          "base_uri": "https://localhost:8080/",
          "height": 203
        },
        "id": "IWpPeLSQxQI4",
        "outputId": "33c8d1cd-3945-41db-d376-814f5f724972"
      },
      "source": [
        "predicted_testy = clf.predict(tfidf_test)\r\n",
        "plot_confusionMatrix(predicted_testy,Y_test)"
      ],
      "execution_count": 66,
      "outputs": [
        {
          "output_type": "display_data",
          "data": {
            "image/png": "[encoded data removed]",
            "text/plain": [
              "<Figure size 1440x288 with 6 Axes>"
            ]
          },
          "metadata": {
            "tags": []
          }
        }
      ]
    },
    {
      "cell_type": "code",
      "metadata": {
        "id": "Iy9WT7D_oetb"
      },
      "source": [
        ""
      ],
      "execution_count": 64,
      "outputs": []
    },
    {
      "cell_type": "markdown",
      "metadata": {
        "id": "sbBWh9LlCmDx"
      },
      "source": [
        "# Conclusion :\r\n",
        "\r\n",
        "\r\n",
        "1. GradientBoostingDecisionTree perform best among all the model.\r\n",
        "2. Most model predict Unsafe model to safe because of imbalance dataset.\r\n",
        "2. There is some imporvement in this model.\r\n",
        "\r\n"
      ]
    },
    {
      "cell_type": "code",
      "metadata": {
        "id": "noWqxm4ZRSSu"
      },
      "source": [
        ""
      ],
      "execution_count": null,
      "outputs": []
    }
  ]
}